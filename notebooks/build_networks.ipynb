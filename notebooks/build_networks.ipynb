{
 "cells": [
  {
   "cell_type": "markdown",
   "metadata": {},
   "source": [
    "<center>\n",
    "<hr>\n",
    "<h1>Multiplex Dependency Stock Network - Build Networks</h1>\n",
    "<hr>\n",
    "</center>"
   ]
  },
  {
   "cell_type": "code",
   "execution_count": 1,
   "metadata": {},
   "outputs": [],
   "source": [
    "import networkx as nx\n",
    "import PMFG"
   ]
  },
  {
   "cell_type": "markdown",
   "metadata": {},
   "source": [
    "We build the three networks using PMFG algorithm from the correlation matrices:"
   ]
  },
  {
   "cell_type": "markdown",
   "metadata": {},
   "source": [
    "- Pearson:"
   ]
  },
  {
   "cell_type": "code",
   "execution_count": 2,
   "metadata": {},
   "outputs": [
    {
     "name": "stderr",
     "output_type": "stream",
     "text": [
      "100% (113050 of 113050) |#################| Elapsed Time: 0:02:58 Time: 0:02:58\n"
     ]
    }
   ],
   "source": [
    "file = '../data/corr_matrix/corr_matrix_pearson.csv'\n",
    "\n",
    "#load correlation matrix\n",
    "corr_matrix = []\n",
    "fh = open(file,'r')\n",
    "for line in fh: \n",
    "    s = line.strip().split(',')\n",
    "    corr_matrix.append(s)\n",
    "fh.close() \n",
    "\n",
    "#get the network \n",
    "G = PMFG.get_network_PMFG(corr_matrix)\n",
    "\n",
    "#save edges list\n",
    "nx.write_weighted_edgelist(G, '../data/edgeslist/edgeslistP.txt')"
   ]
  },
  {
   "cell_type": "markdown",
   "metadata": {},
   "source": [
    "- Kendall:"
   ]
  },
  {
   "cell_type": "code",
   "execution_count": 3,
   "metadata": {},
   "outputs": [
    {
     "name": "stderr",
     "output_type": "stream",
     "text": [
      "100% (113050 of 113050) |#################| Elapsed Time: 0:03:30 Time: 0:03:30\n"
     ]
    }
   ],
   "source": [
    "file = '../data/corr_matrix/corr_matrix_kendall.csv'\n",
    "\n",
    "#load correlation matrix\n",
    "corr_matrix = []\n",
    "fh = open(file,'r')\n",
    "for line in fh: \n",
    "    s = line.strip().split(',')\n",
    "    corr_matrix.append(s)\n",
    "fh.close() \n",
    "\n",
    "#get the network \n",
    "G = PMFG.get_network_PMFG(corr_matrix)\n",
    "\n",
    "#save edges list\n",
    "nx.write_weighted_edgelist(G, '../data/edgeslist/edgeslistK.txt')"
   ]
  },
  {
   "cell_type": "markdown",
   "metadata": {},
   "source": [
    "- Spearman:"
   ]
  },
  {
   "cell_type": "code",
   "execution_count": 4,
   "metadata": {},
   "outputs": [
    {
     "name": "stderr",
     "output_type": "stream",
     "text": [
      "100% (113050 of 113050) |#################| Elapsed Time: 0:03:28 Time: 0:03:28\n"
     ]
    }
   ],
   "source": [
    "file = '../data/corr_matrix/corr_matrix_spearman.csv'\n",
    "\n",
    "#load correlation matrix\n",
    "corr_matrix = []\n",
    "fh = open(file,'r')\n",
    "for line in fh: \n",
    "    s = line.strip().split(',')\n",
    "    corr_matrix.append(s)\n",
    "fh.close() \n",
    "\n",
    "#get the network \n",
    "G = PMFG.get_network_PMFG(corr_matrix)\n",
    "\n",
    "#save edges list\n",
    "nx.write_weighted_edgelist(G, '../data/edgeslist/edgeslistS.txt')"
   ]
  }
 ],
 "metadata": {
  "kernelspec": {
   "display_name": "Python 3",
   "language": "python",
   "name": "python3"
  },
  "language_info": {
   "codemirror_mode": {
    "name": "ipython",
    "version": 3
   },
   "file_extension": ".py",
   "mimetype": "text/x-python",
   "name": "python",
   "nbconvert_exporter": "python",
   "pygments_lexer": "ipython3",
   "version": "3.6.4"
  }
 },
 "nbformat": 4,
 "nbformat_minor": 2
}
